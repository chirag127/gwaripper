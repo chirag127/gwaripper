{
 "cells": [
  {
   "cell_type": "code",
   "execution_count": 2,
   "metadata": {
    "collapsed": false
   },
   "outputs": [],
   "source": [
    "import timeit\n",
    "import pandas as pd\n",
    "import os\n",
    "\n",
    "ROOTDIR = os.path.normpath(\"N:\\_archive\\\\test\\\\trans\\soundgasmNET\")\n",
    "df = pd.read_csv(os.path.join(ROOTDIR, \"sgasm_rip_db.csv\"), sep=\";\", encoding=\"utf-8\", index_col=0)\n",
    "df_grp = df.groupby(\"sgasm_user\")\n",
    "\n",
    "url = \"https://soundgasm.net/u/belle_in_the_woods/F4M-The-Take-FdomJOIcountdownteasingwhispers\""
   ]
  },
  {
   "cell_type": "code",
   "execution_count": 3,
   "metadata": {
    "collapsed": false
   },
   "outputs": [
    {
     "name": "stdout",
     "output_type": "stream",
     "text": [
      "The slowest run took 7.66 times longer than the fastest. This could mean that an intermediate result is being cached.\n",
      "1000 loops, best of 3: 527 µs per loop\n"
     ]
    }
   ],
   "source": [
    "%timeit url in df_grp.get_group(\"belle_in_the_woods\")[\"URLsg\"]"
   ]
  },
  {
   "cell_type": "code",
   "execution_count": 4,
   "metadata": {
    "collapsed": false
   },
   "outputs": [
    {
     "name": "stdout",
     "output_type": "stream",
     "text": [
      "100 loops, best of 3: 2.24 ms per loop\n"
     ]
    }
   ],
   "source": [
    "%timeit url in df[df[\"sgasm_user\"] == \"belle_in_the_woods\"][\"URLsg\"]"
   ]
  },
  {
   "cell_type": "code",
   "execution_count": 5,
   "metadata": {
    "collapsed": true
   },
   "outputs": [],
   "source": [
    "def t():\n",
    "    df.query(\"sgasm_user == 'belle_in_the_woods'\")[\"URLsg\"].isin([url]).any()"
   ]
  },
  {
   "cell_type": "code",
   "execution_count": 6,
   "metadata": {
    "collapsed": false
   },
   "outputs": [
    {
     "name": "stdout",
     "output_type": "stream",
     "text": [
      "100 loops, best of 3: 2.65 ms per loop\n"
     ]
    }
   ],
   "source": [
    "%timeit t()"
   ]
  },
  {
   "cell_type": "code",
   "execution_count": 7,
   "metadata": {
    "collapsed": false
   },
   "outputs": [
    {
     "name": "stdout",
     "output_type": "stream",
     "text": [
      "The slowest run took 39.70 times longer than the fastest. This could mean that an intermediate result is being cached.\n",
      "10000 loops, best of 3: 9.47 µs per loop\n"
     ]
    }
   ],
   "source": [
    "%timeit url in df[\"URLsg\"]"
   ]
  },
  {
   "cell_type": "code",
   "execution_count": 13,
   "metadata": {
    "collapsed": false
   },
   "outputs": [],
   "source": [
    "urls = [\"https://soundgasm.net/u/belle_in_the_woods/F4M-The-Take-FdomJOIcountdownteasingwhispers\",\n",
    "       \"https://soundgasm.net/u/belle_in_the_woods/F4F-Should-I-Call-intimateerotic-poetry\",\n",
    "       \"https://soundgasm.net/u/belle_in_the_woods/F4M-In-Darkness-FsubErotic-Poetry\",\n",
    "       \"https://soundgasm.net/u/belle_in_the_woods/F4M-Cum-Lust-cock-worshiperotic-poetry\",\n",
    "       \"https://soundgasm.net/u/belle_in_the_woods/F4M-The-Take-FdomJOIcountdownteasingwhispers\"]\n",
    "\n",
    "def filter_alrdy_downloaded(df, dl_dict, currentusr=None):\n",
    "    # OLD when passing 2pair tuples, unpack tuples in dl_list into two lists\n",
    "    # url_list, title = zip(*dl_list)\n",
    "    # filter dupes\n",
    "    unique_urls = set(dl_dict)\n",
    "    if currentusr:\n",
    "        try:\n",
    "            duplicate = unique_urls.intersection(df_grp.get_group(currentusr)[\"URLsg\"].values)\n",
    "        except KeyError:\n",
    "            logger.info(\"User '{}' not yet in databas!\".format(currentusr))\n",
    "            duplicate = set()\n",
    "    else:\n",
    "        # timeit 1000: 0.19\n",
    "        duplicate = unique_urls.intersection(df[\"URLsg\"].values)\n",
    "\n",
    "    # set.symmetric_difference()\n",
    "    # Return a new set with elements in either the set or other but not both.\n",
    "    # -> duplicates will get removed from unique_urls\n",
    "    result = list(unique_urls.symmetric_difference(duplicate))\n",
    "\n",
    "    return result"
   ]
  },
  {
   "cell_type": "code",
   "execution_count": 15,
   "metadata": {
    "collapsed": false
   },
   "outputs": [
    {
     "name": "stdout",
     "output_type": "stream",
     "text": [
      "1000 loops, best of 3: 705 µs per loop\n"
     ]
    }
   ],
   "source": [
    "%timeit filter_alrdy_downloaded(df, urls)"
   ]
  },
  {
   "cell_type": "code",
   "execution_count": 14,
   "metadata": {
    "collapsed": false
   },
   "outputs": [
    {
     "name": "stdout",
     "output_type": "stream",
     "text": [
      "1000 loops, best of 3: 488 µs per loop\n"
     ]
    }
   ],
   "source": [
    "%timeit filter_alrdy_downloaded(df, urls, currentusr=\"belle_in_the_woods\")"
   ]
  }
 ],
 "metadata": {
  "kernelspec": {
   "display_name": "Python 3",
   "language": "python",
   "name": "python3"
  },
  "language_info": {
   "codemirror_mode": {
    "name": "ipython",
    "version": 3
   },
   "file_extension": ".py",
   "mimetype": "text/x-python",
   "name": "python",
   "nbconvert_exporter": "python",
   "pygments_lexer": "ipython3",
   "version": "3.5.2"
  }
 },
 "nbformat": 4,
 "nbformat_minor": 2
}
