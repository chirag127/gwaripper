{
 "cells": [
  {
   "cell_type": "code",
   "execution_count": 60,
   "metadata": {
    "collapsed": false
   },
   "outputs": [],
   "source": [
    "import timeit\n",
    "import pandas as pd\n",
    "import os\n",
    "import re\n",
    "import urllib.request\n",
    "import bs4\n",
    "\n",
    "ROOTDIR = os.path.normpath(\"N:\\_archive\\\\test\\\\trans\\soundgasmNET\")\n",
    "df = pd.read_csv(os.path.join(ROOTDIR, \"sgasm_rip_db.csv\"), sep=\";\", encoding=\"utf-8\", index_col=0)\n",
    "df_grp = df.groupby(\"sgasm_user\")\n",
    "\n",
    "url = \"https://soundgasm.net/u/belle_in_the_woods/F4M-The-Take-FdomJOIcountdownteasingwhispers\""
   ]
  },
  {
   "cell_type": "code",
   "execution_count": 3,
   "metadata": {
    "collapsed": false
   },
   "outputs": [
    {
     "name": "stdout",
     "output_type": "stream",
     "text": [
      "The slowest run took 7.66 times longer than the fastest. This could mean that an intermediate result is being cached.\n",
      "1000 loops, best of 3: 527 µs per loop\n"
     ]
    }
   ],
   "source": [
    "%timeit url in df_grp.get_group(\"belle_in_the_woods\")[\"URLsg\"]"
   ]
  },
  {
   "cell_type": "code",
   "execution_count": 4,
   "metadata": {
    "collapsed": false
   },
   "outputs": [
    {
     "name": "stdout",
     "output_type": "stream",
     "text": [
      "100 loops, best of 3: 2.24 ms per loop\n"
     ]
    }
   ],
   "source": [
    "%timeit url in df[df[\"sgasm_user\"] == \"belle_in_the_woods\"][\"URLsg\"]"
   ]
  },
  {
   "cell_type": "code",
   "execution_count": 5,
   "metadata": {
    "collapsed": true
   },
   "outputs": [],
   "source": [
    "def t():\n",
    "    df.query(\"sgasm_user == 'belle_in_the_woods'\")[\"URLsg\"].isin([url]).any()"
   ]
  },
  {
   "cell_type": "code",
   "execution_count": 6,
   "metadata": {
    "collapsed": false
   },
   "outputs": [
    {
     "name": "stdout",
     "output_type": "stream",
     "text": [
      "100 loops, best of 3: 2.65 ms per loop\n"
     ]
    }
   ],
   "source": [
    "%timeit t()"
   ]
  },
  {
   "cell_type": "code",
   "execution_count": 7,
   "metadata": {
    "collapsed": false
   },
   "outputs": [
    {
     "name": "stdout",
     "output_type": "stream",
     "text": [
      "The slowest run took 39.70 times longer than the fastest. This could mean that an intermediate result is being cached.\n",
      "10000 loops, best of 3: 9.47 µs per loop\n"
     ]
    }
   ],
   "source": [
    "%timeit url in df[\"URLsg\"]"
   ]
  },
  {
   "cell_type": "code",
   "execution_count": 2,
   "metadata": {
    "collapsed": false
   },
   "outputs": [],
   "source": [
    "urls = [\"https://soundgasm.net/u/belle_in_the_woods/F4M-The-Take-FdomJOIcountdownteasingwhispers\",\n",
    "       \"https://soundgasm.net/u/belle_in_the_woods/F4F-Should-I-Call-intimateerotic-poetry\",\n",
    "       \"https://soundgasm.net/u/belle_in_the_woods/F4M-In-Darkness-FsubErotic-Poetry\",\n",
    "       \"https://soundgasm.net/u/belle_in_the_woods/F4M-Cum-Lust-cock-worshiperotic-poetry\",\n",
    "       \"https://soundgasm.net/u/belle_in_the_woods/F4M-The-Take-FdomJOIcountdownteasingwhispers\"]\n",
    "\n",
    "def filter_alrdy_downloaded(df, dl_dict, currentusr=None):\n",
    "    # OLD when passing 2pair tuples, unpack tuples in dl_list into two lists\n",
    "    # url_list, title = zip(*dl_list)\n",
    "    # filter dupes\n",
    "    unique_urls = set(dl_dict)\n",
    "    if currentusr:\n",
    "        try:\n",
    "            duplicate = unique_urls.intersection(df_grp.get_group(currentusr)[\"URLsg\"].values)\n",
    "        except KeyError:\n",
    "            logger.info(\"User '{}' not yet in databas!\".format(currentusr))\n",
    "            duplicate = set()\n",
    "    else:\n",
    "        # timeit 1000: 0.19\n",
    "        duplicate = unique_urls.intersection(df[\"URLsg\"].values)\n",
    "\n",
    "    # set.symmetric_difference()\n",
    "    # Return a new set with elements in either the set or other but not both.\n",
    "    # -> duplicates will get removed from unique_urls\n",
    "    result = list(unique_urls.symmetric_difference(duplicate))\n",
    "\n",
    "    return result"
   ]
  },
  {
   "cell_type": "code",
   "execution_count": 15,
   "metadata": {
    "collapsed": false
   },
   "outputs": [
    {
     "name": "stdout",
     "output_type": "stream",
     "text": [
      "1000 loops, best of 3: 705 µs per loop\n"
     ]
    }
   ],
   "source": [
    "%timeit filter_alrdy_downloaded(df, urls)"
   ]
  },
  {
   "cell_type": "code",
   "execution_count": 14,
   "metadata": {
    "collapsed": false
   },
   "outputs": [
    {
     "name": "stdout",
     "output_type": "stream",
     "text": [
      "1000 loops, best of 3: 488 µs per loop\n"
     ]
    }
   ],
   "source": [
    "%timeit filter_alrdy_downloaded(df, urls, currentusr=\"belle_in_the_woods\")"
   ]
  },
  {
   "cell_type": "code",
   "execution_count": 12,
   "metadata": {
    "collapsed": false
   },
   "outputs": [
    {
     "name": "stdout",
     "output_type": "stream",
     "text": [
      "The slowest run took 4.19 times longer than the fastest. This could mean that an intermediate result is being cached.\n",
      "1000000 loops, best of 3: 1.63 µs per loop\n"
     ]
    }
   ],
   "source": [
    "%timeit url.split(\"/u/\", 1)[1].split(\"/\", 1)[0]"
   ]
  },
  {
   "cell_type": "code",
   "execution_count": 13,
   "metadata": {
    "collapsed": false
   },
   "outputs": [
    {
     "name": "stdout",
     "output_type": "stream",
     "text": [
      "100000 loops, best of 3: 3.28 µs per loop\n"
     ]
    }
   ],
   "source": [
    "%timeit re.search(\"/u/(.+)/\", url).group(1)"
   ]
  },
  {
   "cell_type": "code",
   "execution_count": 14,
   "metadata": {
    "collapsed": true
   },
   "outputs": [],
   "source": [
    "usr = re.compile(\"/u/(.+)/\")"
   ]
  },
  {
   "cell_type": "code",
   "execution_count": 15,
   "metadata": {
    "collapsed": false
   },
   "outputs": [
    {
     "name": "stdout",
     "output_type": "stream",
     "text": [
      "100000 loops, best of 3: 3.92 µs per loop\n"
     ]
    }
   ],
   "source": [
    "%timeit re.search(usr, url).group(1)"
   ]
  },
  {
   "cell_type": "code",
   "execution_count": 87,
   "metadata": {
    "collapsed": false
   },
   "outputs": [],
   "source": [
    "def sgasm_inf_split(url):\n",
    "    site = urllib.request.urlopen(url)\n",
    "    html = site.read().decode('utf-8')\n",
    "    site.close()\n",
    "    nhtml = html.split(\"aria-label=\\\"title\\\">\")\n",
    "    title = nhtml[1].split(\"</div>\", 1)[0]\n",
    "    descript = nhtml[1].split(\"<div class=\\\"jp-description\\\">\\n          <p style=\\\"white-space: pre-wrap;\\\">\")[1].split(\"</p>\\r\\n\", 1)[0]\n",
    "    urlm4a = nhtml[1].split(\"m4a: \\\"\")[1].split(\"\\\"\\r\\n\", 1)[0]\n",
    "    \n",
    "\n",
    "def sgasm_re(url):\n",
    "    site = urllib.request.urlopen(url)\n",
    "    html = site.read().decode('utf-8')\n",
    "    site.close()\n",
    "    \n",
    "    title = re.search(\"class=\\\"jp-title\\\" aria-label=\\\"title\\\">(.+)<\\/div>\", html).group(1)\n",
    "    descript = re.search(\"class=\\\"jp-description\\\">\\s+<p.+\\\">(.+)</p>\", html).group(1)\n",
    "    urlm4a = re.search(\"m4a: \\\"(.+)\\\"\", html).group(1)\n",
    "    \n",
    "    \n",
    "t_re = re.compile(\"class=\\\"jp-title\\\" aria-label=\\\"title\\\">(.+)<\\/div>\")\n",
    "d_re = re.compile(\"class=\\\"jp-description\\\">\\s+<p.+\\\">(.+)</p>\")\n",
    "url_re = re.compile(\"m4a: \\\"(.+)\\\"\")\n",
    "\n",
    "\n",
    "def sgasm_re_comp(url):\n",
    "    site = urllib.request.urlopen(url)\n",
    "    html = site.read().decode('utf-8')\n",
    "    site.close()\n",
    "    \n",
    "    title = re.search(t_re, html).group(1)\n",
    "    descript = re.search(d_re, html).group(1)\n",
    "    urlm4a = re.search(url_re, html).group(1)\n",
    "    \n",
    "def sgasm_bs4(url):\n",
    "    site = urllib.request.urlopen(url)\n",
    "    html = site.read().decode('utf-8')\n",
    "    site.close()\n",
    "    soup = bs4.BeautifulSoup(html, \"html.parser\")\n",
    "    \n",
    "    title = soup.select_one(\"div.jp-title\").text\n",
    "    descr = soup.select_one(\"div.jp-description > p\").text\n",
    "    urlm4a = re.search(\"m4a: \\\"(.+)\\\"\", html).group(1)"
   ]
  },
  {
   "cell_type": "code",
   "execution_count": 33,
   "metadata": {
    "collapsed": false
   },
   "outputs": [
    {
     "name": "stdout",
     "output_type": "stream",
     "text": [
      "1000 loops, best of 3: 427 µs per loop\n"
     ]
    }
   ],
   "source": [
    "%timeit sgasm_inf_split(\"file:///N:/_archive/test/trans/soundgasmNET/_dev/_sgasm-repo/tests/test_res/soundgasm.net_file-site.html\")"
   ]
  },
  {
   "cell_type": "code",
   "execution_count": 34,
   "metadata": {
    "collapsed": false
   },
   "outputs": [
    {
     "name": "stdout",
     "output_type": "stream",
     "text": [
      "The slowest run took 8.02 times longer than the fastest. This could mean that an intermediate result is being cached.\n",
      "1000 loops, best of 3: 436 µs per loop\n"
     ]
    }
   ],
   "source": [
    "%timeit sgasm_re(\"file:///N:/_archive/test/trans/soundgasmNET/_dev/_sgasm-repo/tests/test_res/soundgasm.net_file-site.html\")"
   ]
  },
  {
   "cell_type": "code",
   "execution_count": 81,
   "metadata": {
    "collapsed": false
   },
   "outputs": [
    {
     "name": "stdout",
     "output_type": "stream",
     "text": [
      "1000 loops, best of 3: 417 µs per loop\n"
     ]
    }
   ],
   "source": [
    "%timeit sgasm_re_comp(\"file:///N:/_archive/test/trans/soundgasmNET/_dev/_sgasm-repo/tests/test_res/soundgasm.net_file-site.html\")"
   ]
  },
  {
   "cell_type": "code",
   "execution_count": 88,
   "metadata": {
    "collapsed": false
   },
   "outputs": [
    {
     "name": "stdout",
     "output_type": "stream",
     "text": [
      "100 loops, best of 3: 5.71 ms per loop\n"
     ]
    }
   ],
   "source": [
    "%timeit sgasm_bs4(\"file:///N:/_archive/test/trans/soundgasmNET/_dev/_sgasm-repo/tests/test_res/soundgasm.net_file-site.html\")"
   ]
  },
  {
   "cell_type": "code",
   "execution_count": 75,
   "metadata": {
    "collapsed": true
   },
   "outputs": [],
   "source": [
    "def rip_usr_links(sgasm_usr_url):\n",
    "    site = urllib.request.urlopen(sgasm_usr_url)\n",
    "    html = site.read().decode('utf-8')\n",
    "    site.close()\n",
    "    # links zu den einzelnen posts isolieren\n",
    "    nhtml = html.split(\"<div class=\\\"sound-details\\\"><a href=\\\"\")\n",
    "    del nhtml[0]\n",
    "    user_files = []\n",
    "    for splits in nhtml:\n",
    "        # teil str in form von https://soundgasm.net/u/USERNAME/link-to-post> an \">\" und schreibt\n",
    "        # den ersten teil in die variable url\n",
    "        url = splits.split(\"\\\">\", 1)[0]\n",
    "        # url in die liste anfuegen\n",
    "        user_files.append(url)\n",
    "    return user_files\n",
    "\n",
    "\n",
    "def rip_usr_links_re(sgasm_usr_url):\n",
    "    site = urllib.request.urlopen(sgasm_usr_url)\n",
    "    html = site.read().decode('utf-8')\n",
    "    site.close()\n",
    "    # links zu den einzelnen posts isolieren\n",
    "    \n",
    "    # .+ match one or more of any char except newline, .+? -> ?: match as few as possible\n",
    "    # findall returns list of strings or list of groups -> more than 1 grp -> tuples \n",
    "    # matched = re.findall(\"<div class=\\\"sound-details\\\"><a href=\\\"(.+?)\\\">(.+?)<\\/a>\", html)\n",
    "    urls = re.findall(\"<div class=\\\"sound-details\\\"><a href=\\\"(.+?)\\\">\", html)\n",
    "    # unpack list of tuples\n",
    "    # url, titles = zip(*matched)\n",
    "    #print(url)\n",
    "    return urls\n",
    "\n",
    "\n",
    "def rip_usr_links_bs4(u_url):\n",
    "    site = urllib.request.urlopen(u_url)\n",
    "    html = site.read().decode('utf-8')\n",
    "    site.close()\n",
    "    soup = bs4.BeautifulSoup(html, 'html.parser')\n",
    "    \n",
    "    anchs = soup.select(\"div.sound-details > a\")\n",
    "    urls = [a[\"href\"] for a in anchs]\n",
    "    return urls\n",
    "        "
   ]
  },
  {
   "cell_type": "code",
   "execution_count": 52,
   "metadata": {
    "collapsed": false
   },
   "outputs": [
    {
     "name": "stdout",
     "output_type": "stream",
     "text": [
      "1000 loops, best of 3: 874 µs per loop\n"
     ]
    }
   ],
   "source": [
    "%timeit rip_usr_links(\"file:///N:/_archive/test/trans/soundgasmNET/_dev/_sgasm-repo/tests/test_res/soundgasm.net_user-site.html\")"
   ]
  },
  {
   "cell_type": "code",
   "execution_count": 53,
   "metadata": {
    "collapsed": false
   },
   "outputs": [
    {
     "name": "stdout",
     "output_type": "stream",
     "text": [
      "1000 loops, best of 3: 1.49 ms per loop\n"
     ]
    }
   ],
   "source": [
    "%timeit rip_usr_links_re(\"file:///N:/_archive/test/trans/soundgasmNET/_dev/_sgasm-repo/tests/test_res/soundgasm.net_user-site.html\")"
   ]
  },
  {
   "cell_type": "code",
   "execution_count": 77,
   "metadata": {
    "collapsed": false
   },
   "outputs": [
    {
     "name": "stdout",
     "output_type": "stream",
     "text": [
      "10 loops, best of 3: 84.3 ms per loop\n"
     ]
    }
   ],
   "source": [
    "%timeit rip_usr_links_bs4(\"file:///N:/_archive/test/trans/soundgasmNET/_dev/_sgasm-repo/tests/test_res/soundgasm.net_user-site.html\")"
   ]
  }
 ],
 "metadata": {
  "kernelspec": {
   "display_name": "Python 3",
   "language": "python",
   "name": "python3"
  },
  "language_info": {
   "codemirror_mode": {
    "name": "ipython",
    "version": 3
   },
   "file_extension": ".py",
   "mimetype": "text/x-python",
   "name": "python",
   "nbconvert_exporter": "python",
   "pygments_lexer": "ipython3",
   "version": "3.5.2"
  }
 },
 "nbformat": 4,
 "nbformat_minor": 2
}
