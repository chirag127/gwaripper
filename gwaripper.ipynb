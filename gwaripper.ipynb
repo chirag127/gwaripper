{
 "cells": [
  {
   "cell_type": "code",
   "execution_count": 1,
   "metadata": {
    "collapsed": false
   },
   "outputs": [],
   "source": [
    "import urllib.request\n",
    "import bs4\n",
    "import re\n",
    "\n",
    "url = \"http://eraudica.com/e/eve/2017/ASMR-Cock-Worship-Repetition\"\n",
    "\n",
    "site = urllib.request.urlopen(url)\n",
    "html = site.read().decode('utf-8')\n",
    "site.close()\n",
    "soup = bs4.BeautifulSoup(html, \"html.parser\")"
   ]
  },
  {
   "cell_type": "code",
   "execution_count": 35,
   "metadata": {
    "collapsed": false
   },
   "outputs": [
    {
     "name": "stdout",
     "output_type": "stream",
     "text": [
      "\r\n",
      "            var filename = \"ASMR_Repetition_Tagged.mp3\";\r\n",
      "            var isMP3 = true;\r\n",
      "\r\n",
      "            var cookieValue = \"\";\r\n",
      "            var token = \"\";\r\n",
      "\r\n",
      "            var isFreeAudio = true;\r\n",
      "\r\n",
      "            var playerServerURLAuthorityIncludingScheme = \"http://data1.eraudica.com\";\r\n",
      "\r\n",
      "            var listenToken = \"a3fd0fbc-ce0e-4b36-a9de-76fbcec8c27f_\";\r\n",
      "    var downloadToken = \"a3fd0fbc-ce0e-4b36-a9de-76fbcec8c27f_\";\r\n",
      "\r\n",
      "        var previewFilename = null;\r\n",
      "        var previewIsMP3 = null;\r\n",
      "        var previewTitle = null;\r\n",
      "\r\n",
      "\r\n",
      "    var title = \"ASMR Cock Worship - Repetition\";\r\n",
      "\r\n",
      "        \n"
     ]
    }
   ],
   "source": [
    "# selects script tags beneath div with id main and div class post\n",
    "scripts = soup.select(\"div#main div.post script\")[1].text\n",
    "# IndexError if script order or number of tags changed\n",
    "# AttributeError if .text called on e.g. select_one and its None\n",
    "print(scripts)"
   ]
  },
  {
   "cell_type": "code",
   "execution_count": 26,
   "metadata": {
    "collapsed": false
   },
   "outputs": [
    {
     "name": "stdout",
     "output_type": "stream",
     "text": [
      "ASMR_Repetition_Tagged.mp3 http://data1.eraudica.com a3fd0fbc-ce0e-4b36-a9de-76fbcec8c27f_\n"
     ]
    }
   ],
   "source": [
    "fname = re.search(\"var filename = \\\"(.+)\\\"\", scripts).group(1)  # AttributError if re.search doesnt find anything -> None\n",
    "server = re.search(\"var playerServerURLAuthorityIncludingScheme = \\\"(.+)\\\"\", scripts).group(1)\n",
    "dl_token = re.search(\"var downloadToken = \\\"(.+)\\\"\", scripts).group(1)\n",
    "print(fname, server, dl_token)"
   ]
  },
  {
   "cell_type": "code",
   "execution_count": 3,
   "metadata": {
    "collapsed": false
   },
   "outputs": [
    {
     "ename": "AttributeError",
     "evalue": "'NoneType' object has no attribute 'group'",
     "output_type": "error",
     "traceback": [
      "\u001b[0;31m---------------------------------------------------------------------------\u001b[0m",
      "\u001b[0;31mAttributeError\u001b[0m                            Traceback (most recent call last)",
      "\u001b[0;32m<ipython-input-3-532b893a7ef1>\u001b[0m in \u001b[0;36m<module>\u001b[0;34m()\u001b[0m\n\u001b[1;32m      8\u001b[0m \u001b[0msys\u001b[0m\u001b[1;33m.\u001b[0m\u001b[0mexcepthook\u001b[0m \u001b[1;33m=\u001b[0m \u001b[0mgw\u001b[0m\u001b[1;33m.\u001b[0m\u001b[0mhandle_exception\u001b[0m\u001b[1;33m\u001b[0m\u001b[0m\n\u001b[1;32m      9\u001b[0m \u001b[1;32mtry\u001b[0m\u001b[1;33m:\u001b[0m\u001b[1;33m\u001b[0m\u001b[0m\n\u001b[0;32m---> 10\u001b[0;31m     \u001b[0ma\u001b[0m\u001b[1;33m.\u001b[0m\u001b[0mcall_host_get_file_info\u001b[0m\u001b[1;33m(\u001b[0m\u001b[1;33m)\u001b[0m\u001b[1;33m\u001b[0m\u001b[0m\n\u001b[0m\u001b[1;32m     11\u001b[0m \u001b[1;32mexcept\u001b[0m \u001b[0mInfoExtractingError\u001b[0m\u001b[1;33m:\u001b[0m\u001b[1;33m\u001b[0m\u001b[0m\n\u001b[1;32m     12\u001b[0m     \u001b[0mgw\u001b[0m\u001b[1;33m.\u001b[0m\u001b[0mlogger\u001b[0m\u001b[1;33m.\u001b[0m\u001b[0mexception\u001b[0m\u001b[1;33m(\u001b[0m\u001b[1;34m\"Test\"\u001b[0m\u001b[1;33m)\u001b[0m\u001b[1;33m\u001b[0m\u001b[0m\n",
      "\u001b[0;32mN:\\_archive\\test\\trans\\soundgasmNET\\_dev\\_sgasm-repo\\gwaripper\\gwaripper.py\u001b[0m in \u001b[0;36mcall_host_get_file_info\u001b[0;34m(self)\u001b[0m\n\u001b[1;32m    529\u001b[0m             \u001b[0mself\u001b[0m\u001b[1;33m.\u001b[0m\u001b[0m_set_chirbit_url\u001b[0m\u001b[1;33m(\u001b[0m\u001b[1;33m)\u001b[0m\u001b[1;33m\u001b[0m\u001b[0m\n\u001b[1;32m    530\u001b[0m         \u001b[1;32melif\u001b[0m \u001b[0mself\u001b[0m\u001b[1;33m.\u001b[0m\u001b[0mhost\u001b[0m \u001b[1;33m==\u001b[0m \u001b[1;34m\"eraudica\"\u001b[0m\u001b[1;33m:\u001b[0m\u001b[1;33m\u001b[0m\u001b[0m\n\u001b[0;32m--> 531\u001b[0;31m             \u001b[0mself\u001b[0m\u001b[1;33m.\u001b[0m\u001b[0m_set_eraudica_info\u001b[0m\u001b[1;33m(\u001b[0m\u001b[1;33m)\u001b[0m\u001b[1;33m\u001b[0m\u001b[0m\n\u001b[0m\u001b[1;32m    532\u001b[0m \u001b[1;33m\u001b[0m\u001b[0m\n\u001b[1;32m    533\u001b[0m     \u001b[1;32mdef\u001b[0m \u001b[0m_set_chirbit_url\u001b[0m\u001b[1;33m(\u001b[0m\u001b[0mself\u001b[0m\u001b[1;33m)\u001b[0m\u001b[1;33m:\u001b[0m\u001b[1;33m\u001b[0m\u001b[0m\n",
      "\u001b[0;32mN:\\_archive\\test\\trans\\soundgasmNET\\_dev\\_sgasm-repo\\gwaripper\\gwaripper.py\u001b[0m in \u001b[0;36m_set_eraudica_info\u001b[0;34m(self)\u001b[0m\n\u001b[1;32m    586\u001b[0m                 \u001b[1;31m# access group of RE (part in '()') with .group(index)\u001b[0m\u001b[1;33m\u001b[0m\u001b[1;33m\u001b[0m\u001b[0m\n\u001b[1;32m    587\u001b[0m                 \u001b[1;31m# Group 0 is always present; it’s the whole RE\u001b[0m\u001b[1;33m\u001b[0m\u001b[1;33m\u001b[0m\u001b[0m\n\u001b[0;32m--> 588\u001b[0;31m                 \u001b[0mfname\u001b[0m \u001b[1;33m=\u001b[0m \u001b[0mre\u001b[0m\u001b[1;33m.\u001b[0m\u001b[0msearch\u001b[0m\u001b[1;33m(\u001b[0m\u001b[1;34m\"var filenaAAme = \\\"(.+)\\\"\"\u001b[0m\u001b[1;33m,\u001b[0m \u001b[0mscripts\u001b[0m\u001b[1;33m)\u001b[0m\u001b[1;33m.\u001b[0m\u001b[0mgroup\u001b[0m\u001b[1;33m(\u001b[0m\u001b[1;36m1\u001b[0m\u001b[1;33m)\u001b[0m\u001b[1;33m\u001b[0m\u001b[0m\n\u001b[0m\u001b[1;32m    589\u001b[0m                 \u001b[0mserver\u001b[0m \u001b[1;33m=\u001b[0m \u001b[0mre\u001b[0m\u001b[1;33m.\u001b[0m\u001b[0msearch\u001b[0m\u001b[1;33m(\u001b[0m\u001b[1;34m\"var playerServerURLAuthorityIncludingScheme = \\\"(.+)\\\"\"\u001b[0m\u001b[1;33m,\u001b[0m \u001b[0mscripts\u001b[0m\u001b[1;33m)\u001b[0m\u001b[1;33m.\u001b[0m\u001b[0mgroup\u001b[0m\u001b[1;33m(\u001b[0m\u001b[1;36m1\u001b[0m\u001b[1;33m)\u001b[0m\u001b[1;33m\u001b[0m\u001b[0m\n\u001b[1;32m    590\u001b[0m                 \u001b[0mdl_token\u001b[0m \u001b[1;33m=\u001b[0m \u001b[0mre\u001b[0m\u001b[1;33m.\u001b[0m\u001b[0msearch\u001b[0m\u001b[1;33m(\u001b[0m\u001b[1;34m\"var downloadToken = \\\"(.+)\\\"\"\u001b[0m\u001b[1;33m,\u001b[0m \u001b[0mscripts\u001b[0m\u001b[1;33m)\u001b[0m\u001b[1;33m.\u001b[0m\u001b[0mgroup\u001b[0m\u001b[1;33m(\u001b[0m\u001b[1;36m1\u001b[0m\u001b[1;33m)\u001b[0m\u001b[1;33m\u001b[0m\u001b[0m\n",
      "\u001b[0;31mAttributeError\u001b[0m: 'NoneType' object has no attribute 'group'"
     ]
    }
   ],
   "source": [
    "import gwaripper.gwaripper as gw\n",
    "from gwaripper.utils import InfoExtractingError\n",
    "\n",
    "url = \"http://eraudica.com/e/eve/2017/ASMR-Cock-Worship-Repetition\"\n",
    "\n",
    "a = gw.AudioDownload(url, \"eraudica\", {\"r_user\": None})\n",
    "import sys\n",
    "sys.excepthook = gw.handle_exception\n",
    "try:\n",
    "    a.call_host_get_file_info()\n",
    "except InfoExtractingError:\n",
    "    gw.logger.exception(\"Test\")"
   ]
  },
  {
   "cell_type": "code",
   "execution_count": null,
   "metadata": {
    "collapsed": true
   },
   "outputs": [],
   "source": []
  }
 ],
 "metadata": {
  "kernelspec": {
   "display_name": "Python 3",
   "language": "python",
   "name": "python3"
  },
  "language_info": {
   "codemirror_mode": {
    "name": "ipython",
    "version": 3
   },
   "file_extension": ".py",
   "mimetype": "text/x-python",
   "name": "python",
   "nbconvert_exporter": "python",
   "pygments_lexer": "ipython3",
   "version": "3.5.2"
  }
 },
 "nbformat": 4,
 "nbformat_minor": 0
}
